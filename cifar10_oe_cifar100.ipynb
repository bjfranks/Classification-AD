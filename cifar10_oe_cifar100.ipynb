{
 "cells": [
  {
   "cell_type": "markdown",
   "metadata": {},
   "source": [
    "# CIFAR-10 vs. CIFAR-100 Outlier Exposure Experiment"
   ]
  },
  {
   "cell_type": "markdown",
   "metadata": {},
   "source": [
    "## Imports"
   ]
  },
  {
   "cell_type": "code",
   "execution_count": 1,
   "metadata": {},
   "outputs": [],
   "source": [
    "# append source path\n",
    "import sys\n",
    "sys.path.append('/Users/lukasruff/Repos/Deep-SAD-PyTorch-dev/src')"
   ]
  },
  {
   "cell_type": "code",
   "execution_count": 2,
   "metadata": {},
   "outputs": [
    {
     "name": "stdout",
     "output_type": "stream",
     "text": [
      "/Users/lukasruff/Repos/ClassAD/notebooks\n"
     ]
    }
   ],
   "source": [
    "# check working directory\n",
    "import os\n",
    "cwd = os.getcwd()\n",
    "print(cwd)"
   ]
  },
  {
   "cell_type": "code",
   "execution_count": 3,
   "metadata": {},
   "outputs": [],
   "source": [
    "# imports\n",
    "import json\n",
    "import numpy as np\n",
    "import pandas as pd\n",
    "\n",
    "import matplotlib as mpl\n",
    "import matplotlib.pyplot as plt\n",
    "import seaborn as sns\n",
    "import warnings; warnings.filterwarnings(action='once')\n",
    "\n",
    "sns.set()\n",
    "plt.style.use('seaborn-whitegrid')\n",
    "# sns.set_style(\"white\")\n",
    "sns.set_style(\"whitegrid\")\n",
    "sns.set_context('paper', font_scale=1.9)\n",
    "\n",
    "mpl.rcParams['mathtext.fontset'] = 'cm'\n",
    "\n",
    "%matplotlib inline"
   ]
  },
  {
   "cell_type": "markdown",
   "metadata": {},
   "source": [
    "## Data Loading"
   ]
  },
  {
   "cell_type": "code",
   "execution_count": 4,
   "metadata": {},
   "outputs": [],
   "source": [
    "import json\n",
    "\n",
    "results = {\n",
    "    'AUC': [],\n",
    "    'Method': [],\n",
    "    'k': [],\n",
    "    'class': [],\n",
    "}\n",
    "\n",
    "root = '/Users/lukasruff/Repos/Deep-SAD-PyTorch-dev/log/20200129'\n",
    "output_file = 'auc_cifar100_oe.json'\n",
    "\n",
    "method_paths = ['compact_classifier/cifar10/oe_cifar100/l2_squared_linear',\n",
    "                'compact_classifier_swapped/cifar10/oe_cifar100/l2_squared_linear',\n",
    "                'baselines/classifier/cifar10/oe_cifar100/LeNet']\n",
    "method_names = ['CC regular', 'CC swapped', 'BCE']\n",
    "oe_classes = [1, 2, 4, 8, 16, 32, 64, 100]\n",
    "exps = range(10)\n",
    "seeds = range(1, 11)\n",
    "\n",
    "for i, method_path in enumerate(method_paths):\n",
    "    \n",
    "    for k in oe_classes:\n",
    "        k_folder = str(k) + '_oe_classes'\n",
    "        \n",
    "        for exp in exps:\n",
    "            exp_folder = str(exp) + 'vsall'\n",
    "            \n",
    "            for seed in seeds:\n",
    "                file_name = 'results.json'\n",
    "                exp_path = root + '/' + method_path + '/' + k_folder + '/' + exp_folder + '/seed_' + str(seed)\n",
    "                file_path = exp_path + '/' + file_name\n",
    "                \n",
    "                if os.path.exists(file_path):\n",
    "                    with open(file_path, 'r') as fp:\n",
    "                        result = json.load(fp)\n",
    "                        results['AUC'].append(result['test_auc'])\n",
    "                        results['Method'].append(method_names[i])\n",
    "                        results['k'].append(k)\n",
    "                        results['class'].append(exp)\n",
    "                            \n",
    "                else:\n",
    "                    print(file_path)\n",
    "                    results['AUC'].append(np.nan)\n",
    "                    results['Method'].append(method_names[i])\n",
    "                    results['k'].append(k)\n",
    "                    results['class'].append(exp)\n",
    "\n",
    "# Save results dict to a JSON-file\n",
    "json_file = root + '/' + output_file\n",
    "with open(json_file, 'w') as fp:\n",
    "    json.dump(results, fp)\n",
    "    \n",
    "df = pd.DataFrame(results, columns=['AUC', 'Method', 'k', 'class'])"
   ]
  },
  {
   "cell_type": "code",
   "execution_count": 5,
   "metadata": {},
   "outputs": [
    {
     "data": {
      "text/plain": [
       "AUC       0\n",
       "Method    0\n",
       "k         0\n",
       "class     0\n",
       "dtype: int64"
      ]
     },
     "execution_count": 5,
     "metadata": {},
     "output_type": "execute_result"
    }
   ],
   "source": [
    "df.isna().sum()"
   ]
  },
  {
   "cell_type": "code",
   "execution_count": 6,
   "metadata": {},
   "outputs": [
    {
     "data": {
      "text/plain": [
       "2400"
      ]
     },
     "execution_count": 6,
     "metadata": {},
     "output_type": "execute_result"
    }
   ],
   "source": [
    "len(df)"
   ]
  },
  {
   "cell_type": "code",
   "execution_count": null,
   "metadata": {},
   "outputs": [],
   "source": []
  },
  {
   "cell_type": "code",
   "execution_count": 7,
   "metadata": {},
   "outputs": [],
   "source": [
    "mean_results = {\n",
    "    'AUC': [],\n",
    "    'std': [],\n",
    "    'Method': [],\n",
    "    'k': [],\n",
    "    'class': [],\n",
    "}\n",
    "\n",
    "for i in method_names:\n",
    "    for k in oe_classes:\n",
    "        for exp in exps:\n",
    "            aucs = df[(df['Method'] == i) & (df['k'] == k) & (df['class'] == exp)].AUC\n",
    "            mean = np.nanmean(aucs)\n",
    "            std = np.nanstd(aucs)\n",
    "            mean_results['AUC'].append(float(mean))\n",
    "            mean_results['std'].append(float(std))\n",
    "            mean_results['Method'].append(i)\n",
    "            mean_results['k'].append(k)\n",
    "            mean_results['class'].append(exp)\n",
    "\n",
    "mean_df = pd.DataFrame(results, columns=['AUC', 'std', 'Method', 'k', 'class'])\n",
    "            \n",
    "# Save results dict to a JSON-file\n",
    "json_file = root + '/mean_auc_cifar100_oe.json'\n",
    "with open(json_file, 'w') as fp:\n",
    "    json.dump(mean_results, fp)"
   ]
  },
  {
   "cell_type": "code",
   "execution_count": null,
   "metadata": {},
   "outputs": [],
   "source": []
  },
  {
   "cell_type": "markdown",
   "metadata": {},
   "source": [
    "## Plots"
   ]
  },
  {
   "cell_type": "code",
   "execution_count": 8,
   "metadata": {},
   "outputs": [],
   "source": [
    "plt.rc('font',**{'family':'serif','serif':['Times']})\n",
    "plt.rc('text', usetex=True)\n",
    "\n",
    "markers = [\"o\", \"s\", \"x\"]"
   ]
  },
  {
   "cell_type": "code",
   "execution_count": 9,
   "metadata": {},
   "outputs": [
    {
     "data": {
      "image/png": "[encoded data removed]",
      "text/plain": [
       "<Figure size 432x288 with 1 Axes>"
      ]
     },
     "metadata": {
      "needs_background": "light"
     },
     "output_type": "display_data"
    }
   ],
   "source": [
    "# plot avg. over one-class experiments\n",
    "\n",
    "f, ax = plt.subplots()\n",
    "\n",
    "sns.pointplot(x='k', \n",
    "              y='AUC', \n",
    "              hue='Method', \n",
    "              # data=df, \n",
    "              data=mean_df, \n",
    "              hue_order=['BCE', 'CC regular'], \n",
    "              ci='sd', \n",
    "              join=True, \n",
    "              dodge=0.2, \n",
    "              markers=markers, \n",
    "              errwidth=2.5, \n",
    "              capsize=.09, \n",
    "              scale=1.5, \n",
    "              palette='colorblind', \n",
    "              s=60\n",
    ")\n",
    "\n",
    "# add title\n",
    "# plt.title('Avg. over 10 one-class setups')\n",
    "\n",
    "# add legend\n",
    "L = ax.legend(loc='lower right', fontsize='x-large')\n",
    "L.get_texts()[1].set_text(r'$\\textrm{HSC}$')\n",
    "# L.get_texts()[2].set_text(r'$\\textrm{HSC}_{S}$')\n",
    "\n",
    "# format axis\n",
    "ax.set_ylim(0.65, 1.0)\n",
    "ax.set_xlabel(r'$k$')\n",
    "ax.set_ylabel('AUC')\n",
    "ax.set_yticks([0.7, 0.8, 0.9, 1.0], minor=False)\n",
    "ax.set_yticks([0.75, 0.85, 0.95], minor=True)\n",
    "ax.yaxis.grid(True, which='major')\n",
    "# ax.yaxis.grid(True, which='minor')"
   ]
  },
  {
   "cell_type": "code",
   "execution_count": 10,
   "metadata": {},
   "outputs": [
    {
     "data": {
      "text/plain": [
       "<Figure size 432x288 with 0 Axes>"
      ]
     },
     "metadata": {},
     "output_type": "display_data"
    }
   ],
   "source": [
    "# Save figure\n",
    "f.savefig(root + '/auc_cifar100_oe_avg.pdf', bbox_inches='tight')\n",
    "plt.clf()"
   ]
  },
  {
   "cell_type": "code",
   "execution_count": 11,
   "metadata": {},
   "outputs": [
    {
     "data": {
      "text/plain": [
       "<Figure size 432x288 with 0 Axes>"
      ]
     },
     "metadata": {},
     "output_type": "display_data"
    },
    {
     "data": {
      "text/plain": [
       "<Figure size 432x288 with 0 Axes>"
      ]
     },
     "metadata": {},
     "output_type": "display_data"
    },
    {
     "data": {
      "text/plain": [
       "<Figure size 432x288 with 0 Axes>"
      ]
     },
     "metadata": {},
     "output_type": "display_data"
    },
    {
     "data": {
      "text/plain": [
       "<Figure size 432x288 with 0 Axes>"
      ]
     },
     "metadata": {},
     "output_type": "display_data"
    },
    {
     "data": {
      "text/plain": [
       "<Figure size 432x288 with 0 Axes>"
      ]
     },
     "metadata": {},
     "output_type": "display_data"
    },
    {
     "data": {
      "text/plain": [
       "<Figure size 432x288 with 0 Axes>"
      ]
     },
     "metadata": {},
     "output_type": "display_data"
    },
    {
     "data": {
      "text/plain": [
       "<Figure size 432x288 with 0 Axes>"
      ]
     },
     "metadata": {},
     "output_type": "display_data"
    },
    {
     "data": {
      "text/plain": [
       "<Figure size 432x288 with 0 Axes>"
      ]
     },
     "metadata": {},
     "output_type": "display_data"
    },
    {
     "data": {
      "text/plain": [
       "<Figure size 432x288 with 0 Axes>"
      ]
     },
     "metadata": {},
     "output_type": "display_data"
    },
    {
     "data": {
      "text/plain": [
       "<Figure size 432x288 with 0 Axes>"
      ]
     },
     "metadata": {},
     "output_type": "display_data"
    }
   ],
   "source": [
    "# plot results for each one-class experiments\n",
    "\n",
    "for exp in exps:\n",
    "    \n",
    "    f, ax = plt.subplots()\n",
    "\n",
    "    sns.pointplot(x='k', \n",
    "                  y='AUC', \n",
    "                  hue='Method', \n",
    "                  data=df.loc[df['class'] == exp], \n",
    "                  hue_order=['BCE', 'CC regular'], \n",
    "                  ci='sd', \n",
    "                  join=True, \n",
    "                  dodge=0.2, \n",
    "                  markers=markers, \n",
    "                  errwidth=2.5, \n",
    "                  capsize=.09, \n",
    "                  scale=1.5, \n",
    "                  palette='colorblind', \n",
    "                  s=60\n",
    "    )\n",
    "\n",
    "    # add title\n",
    "    # plt.title(str(exp) + 'vsall')\n",
    "    \n",
    "    # add legend\n",
    "    L = ax.legend(loc='lower right', fontsize='x-large')\n",
    "    L.get_texts()[1].set_text(r'$\\textrm{HSC}$')\n",
    "    # L.get_texts()[2].set_text(r'$\\textrm{HSC}_{S}$')\n",
    "\n",
    "    # format axis\n",
    "    ax.set_xlabel(r'$k$')\n",
    "    ax.set_ylabel('AUC')\n",
    "    ax.yaxis.grid(True, which='major')\n",
    "    \n",
    "    # Save figure\n",
    "    f.savefig(root + '/auc_cifar100_oe_' + str(exp) + 'vsall.pdf', bbox_inches='tight')\n",
    "    plt.clf()"
   ]
  },
  {
   "cell_type": "code",
   "execution_count": null,
   "metadata": {},
   "outputs": [],
   "source": []
  },
  {
   "cell_type": "code",
   "execution_count": null,
   "metadata": {},
   "outputs": [],
   "source": []
  }
 ],
 "metadata": {
  "kernelspec": {
   "display_name": "Python 3",
   "language": "python",
   "name": "python3"
  },
  "language_info": {
   "codemirror_mode": {
    "name": "ipython",
    "version": 3
   },
   "file_extension": ".py",
   "mimetype": "text/x-python",
   "name": "python",
   "nbconvert_exporter": "python",
   "pygments_lexer": "ipython3",
   "version": "3.7.4"
  }
 },
 "nbformat": 4,
 "nbformat_minor": 2
}
